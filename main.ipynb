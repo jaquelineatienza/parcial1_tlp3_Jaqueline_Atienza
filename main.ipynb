{
 "cells": [
  {
   "cell_type": "markdown",
   "id": "9fee5ee9",
   "metadata": {},
   "source": [
    "# Examen Parcial n°1 2da Parte - TLP3 - Python para Ciencia de Datos.\n"
   ]
  },
  {
   "cell_type": "markdown",
   "id": "999099d0",
   "metadata": {},
   "source": [
    "**A partir del datasets brindado, realizar los siguientes procedimientos:**\n",
    "\n",
    "* Importar datasets con Pandas.\n",
    "* Explorar los datos con los metodos correspondientes. \n",
    "* Limpieza de los datos (Normalización de datos).\n",
    "* Obtener estadisticas.\n",
    "* Mostrar los datos procesados con graficos utilizando la libreria Matplotlib.\n",
    "* Exportar el contenido a un archivo sqlite utilizando PANDAS.\n",
    "\n",
    "\n",
    "**Importante: Se debe documentar cada procedimiento realizado, siguiendo la siguiente estructura:**\n",
    "\n",
    "1. Celda de Markdown (Documentación)\n",
    "2. Código (Sin comentarios, se debe documentar lo sufiente solo en la celda de markdown).\n",
    "\n",
    "\n",
    "### Criterios de Evaluación:\n",
    "\n",
    "1. No esta permitido el uso de IAs durante el examen. (Desactivar Copilot o cualquier herramienta de IA para autocompletar codigo.)\n",
    "\n",
    "2. Se deben utilizar nombres de variables descriptivos y claros (Utilizar la nomeclatura correspondiente para los nombres de variables).\n",
    "\n",
    "3. Comentarios claros y concisos que expliquen el propósito de cada sección del código en una celda de markdown antes del código.\n",
    "\n",
    "4. Utilizar mensajes de commit descriptivos. (Puedes utilizar la extension CONVENTIONAL COMMIT de VS-CODE).\n",
    "\n",
    "5. Entrega en tiempo y forma (Parciales entregados fuera de hora o con commits pasados el horario de entrega quedará invalidado.)\n",
    "\n",
    "6. Todo el código desarrollado debe ser subido a un repositorio en GitHub (el nombre del repositorio de seguir la siguiente estructura: \n",
    "**parcial1_tlp3_nombre_apellido**).\n",
    "\n",
    "7. Para resolver las actividades se debe insertar casillas de codigo entre cada actividad del cuaderno de Jupyter.\n",
    "\n",
    "8. Deben trabajar con el datasets adjunto.\n",
    "\n",
    "9. Una vez finalizado el examen, los resultados deben quedar guardados debajo de cada celda (NO EJECUTAR LA OPCIÓN \"borrar todas las salidas\").\n",
    "\n",
    "**Importante:** Una vez finalizado el examen, marcar como completado en el classroom."
   ]
  },
  {
   "cell_type": "markdown",
   "id": "dd91f969",
   "metadata": {},
   "source": [
    "## Actividades: \n",
    "### 1. Importación del Dataset con Pandas\n",
    "\n",
    "En esta sección, se debe utilizar la librería Pandas para cargar el archivo CSV que contiene los datos de VOTACIONES en un Datasets.\n",
    "\n",
    "### 2. Exploración Inicial de los Datos\n",
    "\n",
    "A continuación, se deben emplear métodos de Pandas para obtener una visión general del dataset. \n",
    "- 2.1: Visualizar las primeras filas y ultimas.\n",
    "- 2.2: Obtener informacion del df con su metodo correspondiente.\n",
    "- 2.3: Hacer un conteo de valores nulos.\n",
    "\n",
    "### 3. Limpieza y Normalización de los Datos\n",
    "\n",
    "- 3.1. Esta etapa crucial deben aplicar la corrección de diversos errores presentes en el dataset. Se abordarán los valores faltantes (Deben aplicar los metodos que ustedes crean convenientes **(Solo 1)**, por ejemplo: Eliminación de filas, cubrir valores con media, mediana, etc.)\n",
    "- 3.2: La columna Fecha deberan pasarla al tipo datetime con su metodo correspondiente.\n",
    "- 3.3: Corregir las mayusculas en el caso de Nombre y Apellido (Si es que corresponde.)\n",
    "- 3.4: En el caso de los votos, aplicar mayusculas a cada fila.\n",
    "- 3.5 EL campo DNI debe ser del tipo INT.\n",
    "\n",
    "\n",
    "### 4. Obtención de Estadísticas Descriptivas\n",
    "\n",
    "Después de la limpieza, deben hacer lo siguiente: \n",
    "\n",
    "- 4.1: calcular nuevamente las estadísticas descriptivas para observar el impacto del proceso de limpieza en los datos numéricos.\n",
    "- 4.2: Calcular estadísticas específicas por grupo (Agrupar dos columnas).\n",
    "\n",
    "### 5. Visualización de los Datos con Matplotlib\n",
    "\n",
    "En esta sección, deben utilizar la librería Matplotlib para crear **UNA** visualización que permitan comprender mejor los datos de ventas.El grafico es a elección, puede crear **UNO** de los siguientes: histogramas, diagramas de dispersión, gráficos de barras y graficos de torta.\n",
    "\n",
    "### 6. Exportación a Archivo SQLite\n",
    "\n",
    "Finalmente, deben utilizar la funcionalidad de Pandas para guardar el DataFrame procesado en una base de datos SQLite. Deben hacer una conexión y hacer una consulta para ver si los datos fueron cargados correctamente.\n",
    "\n"
   ]
  },
  {
   "cell_type": "markdown",
   "id": "7dd703da",
   "metadata": {},
   "source": [
    "En el siguiente fragmento se hara la importacion de las dependencias"
   ]
  },
  {
   "cell_type": "code",
   "execution_count": null,
   "id": "08a704ee",
   "metadata": {},
   "outputs": [],
   "source": [
    "import pandas as pd \n"
   ]
  },
  {
   "cell_type": "markdown",
   "id": "02a5c847",
   "metadata": {},
   "source": [
    "con el metodo read csv se accedera a todos los elementos del archivo"
   ]
  },
  {
   "cell_type": "code",
   "execution_count": 2,
   "id": "83b70b0e",
   "metadata": {},
   "outputs": [],
   "source": [
    "archivo= pd.read_csv('votaciones.csv')"
   ]
  },
  {
   "cell_type": "markdown",
   "id": "62949727",
   "metadata": {},
   "source": [
    "Se creara el dataframe "
   ]
  },
  {
   "cell_type": "code",
   "execution_count": 4,
   "id": "804a40e0",
   "metadata": {},
   "outputs": [],
   "source": [
    "df= pd.DataFrame(archivo)\n"
   ]
  },
  {
   "cell_type": "markdown",
   "id": "27f50b42",
   "metadata": {},
   "source": [
    "con df.head() se vizualizara las primeras 5 filas \n",
    "y con df.tail() se vizualizara las ultimas filas "
   ]
  },
  {
   "cell_type": "code",
   "execution_count": 6,
   "id": "346f827d",
   "metadata": {},
   "outputs": [
    {
     "name": "stdout",
     "output_type": "stream",
     "text": [
      "Primeras     nombre apellido         dni     provincia  voto fecha_votacion\n",
      "0  pánfilo    pombo  34787190.0  buenos aires  nulo     2024-11-22\n",
      "1   albina  heredia  48336819.0      santa fe  nulo     2024-04-24\n",
      "2      NaN   solano  49179364.0       neuquen  nulo     2024-05-20\n",
      "3   salomé   barrio  43725639.0  buenos aires   NaN     05-06-2024\n",
      "4   matías  esteban  30599927.0         chaco    no     10-07-2023\n",
      "Ultimas        nombre apellido         dni provincia  voto fecha_votacion\n",
      "96      carla    vidal  15161718.0  misiones  nulo     2023-09-12\n",
      "97   federico  barrios  16171819.0   neuquen    no     11-09-2023\n",
      "98      belen     vera  17181920.0   tucuman    sí     2023-09-10\n",
      "99    gustavo    gauna  18192021.0  santa fe  nulo     09-09-2023\n",
      "100     rocio    avila  19202122.0   formosa    no     08-09-2023\n"
     ]
    }
   ],
   "source": [
    "#primeras filas\n",
    "print(\"Primeras\",df.head())\n",
    "#ultimas filas\n",
    "print(\"Ultimas\",df.tail())"
   ]
  },
  {
   "cell_type": "markdown",
   "id": "451abe39",
   "metadata": {},
   "source": [
    "mostramos las estadisticas "
   ]
  },
  {
   "cell_type": "code",
   "execution_count": 7,
   "id": "48eff428",
   "metadata": {},
   "outputs": [
    {
     "name": "stdout",
     "output_type": "stream",
     "text": [
      "                dni\n",
      "count  9.000000e+01\n",
      "mean   3.864910e+07\n",
      "std    2.400198e+07\n",
      "min    1.011121e+07\n",
      "25%    1.982167e+07\n",
      "50%    3.319309e+07\n",
      "75%    4.886738e+07\n",
      "max    9.900112e+07\n"
     ]
    }
   ],
   "source": [
    "print(df.describe())"
   ]
  },
  {
   "cell_type": "code",
   "execution_count": 8,
   "id": "675cc2d6",
   "metadata": {},
   "outputs": [
    {
     "name": "stdout",
     "output_type": "stream",
     "text": [
      "nombre             object\n",
      "apellido           object\n",
      "dni               float64\n",
      "provincia          object\n",
      "voto               object\n",
      "fecha_votacion     object\n",
      "dtype: object\n"
     ]
    }
   ],
   "source": [
    "#tipos de datos dentro del dataset\n",
    "print(df.dtypes)"
   ]
  },
  {
   "cell_type": "markdown",
   "id": "9f9e57b2",
   "metadata": {},
   "source": [
    "con el metodo isNull().sum() se contaran los valores nulos"
   ]
  },
  {
   "cell_type": "code",
   "execution_count": 9,
   "id": "2e89f2d3",
   "metadata": {},
   "outputs": [
    {
     "name": "stdout",
     "output_type": "stream",
     "text": [
      "nombre            10\n",
      "apellido           7\n",
      "dni               11\n",
      "provincia          6\n",
      "voto               5\n",
      "fecha_votacion     6\n",
      "dtype: int64\n"
     ]
    }
   ],
   "source": [
    "print(df.isnull().sum())"
   ]
  },
  {
   "cell_type": "markdown",
   "id": "5c2afd30",
   "metadata": {},
   "source": [
    "Se modifico el formato de fecha para que todos tengan el mismo formato con pd.to_datatime"
   ]
  },
  {
   "cell_type": "code",
   "execution_count": 13,
   "id": "4bd82127",
   "metadata": {},
   "outputs": [],
   "source": [
    "df['fecha_votacion']=pd.to_datetime(df['fecha_votacion'],errors='coerce')"
   ]
  },
  {
   "cell_type": "code",
   "execution_count": 14,
   "id": "6b8d5db7",
   "metadata": {},
   "outputs": [
    {
     "name": "stdout",
     "output_type": "stream",
     "text": [
      "0     2024-11-22\n",
      "1     2024-04-24\n",
      "2     2024-05-20\n",
      "3            NaT\n",
      "4            NaT\n",
      "         ...    \n",
      "96    2023-09-12\n",
      "97           NaT\n",
      "98    2023-09-10\n",
      "99           NaT\n",
      "100          NaT\n",
      "Name: fecha_votacion, Length: 101, dtype: datetime64[ns]\n"
     ]
    }
   ],
   "source": [
    "print(df['fecha_votacion'])"
   ]
  },
  {
   "cell_type": "markdown",
   "id": "3a171371",
   "metadata": {},
   "source": [
    "Se eliminara los valores NaT con el metodo dropna y especificaremos con el metodo subset que es en la columna de fecha y se guardan en el mismo df"
   ]
  },
  {
   "cell_type": "code",
   "execution_count": 15,
   "id": "746445f6",
   "metadata": {},
   "outputs": [],
   "source": [
    "df.dropna(subset=['fecha_votacion'],inplace=True)"
   ]
  },
  {
   "cell_type": "code",
   "execution_count": 16,
   "id": "1661a489",
   "metadata": {},
   "outputs": [
    {
     "name": "stdout",
     "output_type": "stream",
     "text": [
      "0    2024-11-22\n",
      "1    2024-04-24\n",
      "2    2024-05-20\n",
      "7    2024-05-02\n",
      "10   2024-09-15\n",
      "12   2025-04-26\n",
      "13   2025-03-29\n",
      "14   2024-04-04\n",
      "18   2024-03-07\n",
      "19   2024-08-25\n",
      "20   2024-10-25\n",
      "21   2024-05-04\n",
      "22   2023-10-09\n",
      "23   2023-06-16\n",
      "26   2024-07-05\n",
      "32   2024-05-03\n",
      "33   2025-01-15\n",
      "37   2023-05-13\n",
      "40   2023-09-27\n",
      "42   2023-12-06\n",
      "44   2024-12-28\n",
      "46   2025-03-25\n",
      "47   2024-12-12\n",
      "48   2024-06-28\n",
      "49   2024-05-03\n",
      "51   2023-10-14\n",
      "53   2023-10-13\n",
      "55   2023-10-12\n",
      "58   2023-10-11\n",
      "59   2023-10-10\n",
      "61   2023-10-09\n",
      "63   2023-10-08\n",
      "65   2023-10-07\n",
      "67   2023-10-06\n",
      "68   2023-10-05\n",
      "75   2023-09-29\n",
      "77   2023-09-28\n",
      "80   2023-09-26\n",
      "81   2023-09-25\n",
      "83   2023-09-24\n",
      "89   2023-09-19\n",
      "94   2023-09-14\n",
      "96   2023-09-12\n",
      "98   2023-09-10\n",
      "Name: fecha_votacion, dtype: datetime64[ns]\n"
     ]
    }
   ],
   "source": [
    "#muestra de resultados\n",
    "print(df['fecha_votacion'])"
   ]
  },
  {
   "cell_type": "markdown",
   "id": "ddb2c17d",
   "metadata": {},
   "source": [
    "Normalizacion de los nombres y apellidos el metodo str.strip elimina los espacios en blanco al inicio y al final del nombre,el segundo metodo agrega mayusculas al principio de cada palabra"
   ]
  },
  {
   "cell_type": "code",
   "execution_count": 18,
   "id": "3e4f6fda",
   "metadata": {},
   "outputs": [],
   "source": [
    "df['nombre']=df['nombre'].str.strip().str.title()"
   ]
  },
  {
   "cell_type": "code",
   "execution_count": 23,
   "id": "cd6615fd",
   "metadata": {},
   "outputs": [
    {
     "name": "stdout",
     "output_type": "stream",
     "text": [
      "0            Pánfilo\n",
      "1             Albina\n",
      "7            Brígida\n",
      "10          Verónica\n",
      "13            Otilia\n",
      "14          Baudelio\n",
      "18            Valero\n",
      "19            Ramiro\n",
      "20    Juan Francisco\n",
      "21             Josep\n",
      "22          Leopoldo\n",
      "26             Nerea\n",
      "32             Lucas\n",
      "37            Rufino\n",
      "40            Lupita\n",
      "42               Mar\n",
      "44               Luz\n",
      "46         Victorino\n",
      "47             Anita\n",
      "48            Regina\n",
      "51             María\n",
      "53             Sofia\n",
      "55             Laura\n",
      "58               Ana\n",
      "59             Diego\n",
      "61            Julian\n",
      "63             Elias\n",
      "65            Martin\n",
      "67           Nicolas\n",
      "68          Agustina\n",
      "75            Camila\n",
      "77            Melina\n",
      "80             Pablo\n",
      "81          Milagros\n",
      "83            Romina\n",
      "89           Natalia\n",
      "94            Yesica\n",
      "96             Carla\n",
      "98             Belen\n",
      "Name: nombre, dtype: object\n"
     ]
    }
   ],
   "source": [
    "print(df['nombre'])"
   ]
  },
  {
   "cell_type": "code",
   "execution_count": 25,
   "id": "9bf23736",
   "metadata": {},
   "outputs": [
    {
     "name": "stdout",
     "output_type": "stream",
     "text": [
      "0         Pombo\n",
      "1       Heredia\n",
      "7        Angulo\n",
      "10       Posada\n",
      "13      Fortuny\n",
      "14     Sanabria\n",
      "19        Checa\n",
      "22     Arellano\n",
      "26      Fajardo\n",
      "32         Pozo\n",
      "37        Jordá\n",
      "40        Prado\n",
      "42      Benítez\n",
      "44       Alemán\n",
      "46         Cabo\n",
      "47       Iborra\n",
      "48       Bayona\n",
      "51        Perez\n",
      "53    Fernandez\n",
      "58      Benitez\n",
      "59       Aranda\n",
      "61      Navarro\n",
      "63    Dominguez\n",
      "65          Paz\n",
      "67       Vargas\n",
      "68      Peralta\n",
      "75         Mena\n",
      "77         Luna\n",
      "80       Pineda\n",
      "81      Gimenez\n",
      "83       Acosta\n",
      "89         Arce\n",
      "94       Ospina\n",
      "96        Vidal\n",
      "98         Vera\n",
      "Name: apellido, dtype: object\n"
     ]
    }
   ],
   "source": [
    "df['apellido']=df['apellido'].str.strip().str.title()\n",
    "print(df['apellido'])"
   ]
  },
  {
   "cell_type": "markdown",
   "id": "9519b6c3",
   "metadata": {},
   "source": [
    "eliminacion general de los filas nulas con df.dropna(inplace=true) para que no se cree uno nuevo"
   ]
  },
  {
   "cell_type": "code",
   "execution_count": 36,
   "id": "76bc16aa",
   "metadata": {},
   "outputs": [],
   "source": [
    "df.dropna(inplace=True)\n"
   ]
  },
  {
   "cell_type": "markdown",
   "id": "e7f30d03",
   "metadata": {},
   "source": [
    "Se normalizara la columna de votos pasando todo a mayuscula con .str.upper"
   ]
  },
  {
   "cell_type": "code",
   "execution_count": 33,
   "id": "84186bea",
   "metadata": {},
   "outputs": [
    {
     "name": "stdout",
     "output_type": "stream",
     "text": [
      "0     NULO\n",
      "1     NULO\n",
      "7       NO\n",
      "10      NO\n",
      "13      NO\n",
      "14      NO\n",
      "19      NO\n",
      "22    NULO\n",
      "26    NULO\n",
      "32      SÍ\n",
      "37      SÍ\n",
      "40      SÍ\n",
      "42      SÍ\n",
      "44      SÍ\n",
      "46      SÍ\n",
      "47      NO\n",
      "48      NO\n",
      "51      NO\n",
      "53      SÍ\n",
      "58     NaN\n",
      "59    NULO\n",
      "61      NO\n",
      "63      SÍ\n",
      "65      NO\n",
      "67     NaN\n",
      "68    NULO\n",
      "75      NO\n",
      "77    NULO\n",
      "80      NO\n",
      "81      SÍ\n",
      "83      NO\n",
      "89    NULO\n",
      "94      NO\n",
      "96    NULO\n",
      "98      SÍ\n",
      "Name: voto, dtype: object\n"
     ]
    }
   ],
   "source": [
    "df['voto']=df['voto'].str.upper()\n",
    "print(df['voto'])"
   ]
  },
  {
   "cell_type": "code",
   "execution_count": 32,
   "id": "404badd5",
   "metadata": {},
   "outputs": [
    {
     "name": "stdout",
     "output_type": "stream",
     "text": [
      "2\n"
     ]
    }
   ],
   "source": [
    "print(df['voto'].isnull().sum())"
   ]
  },
  {
   "cell_type": "code",
   "execution_count": 38,
   "id": "23301948",
   "metadata": {},
   "outputs": [
    {
     "name": "stdout",
     "output_type": "stream",
     "text": [
      "0     34787190\n",
      "1     48336819\n",
      "7     22169546\n",
      "10    35293135\n",
      "14    24036189\n",
      "19    31711663\n",
      "26    44318980\n",
      "32    18472805\n",
      "37    25186385\n",
      "40    14649451\n",
      "44    13652459\n",
      "46    23310842\n",
      "48    29097522\n",
      "51    23456789\n",
      "59    90123456\n",
      "61    23419876\n",
      "63    34521987\n",
      "65    56743219\n",
      "68    89076542\n",
      "75    56756756\n",
      "77    78978978\n",
      "80    11223344\n",
      "81    22334455\n",
      "83    44556677\n",
      "89    99001122\n",
      "94    13141516\n",
      "96    15161718\n",
      "98    17181920\n",
      "Name: dni, dtype: int64\n"
     ]
    }
   ],
   "source": [
    "print(df['dni'])\n",
    "df['dni']= df['dni'].astype(int)"
   ]
  },
  {
   "cell_type": "code",
   "execution_count": 39,
   "id": "d7d93098",
   "metadata": {},
   "outputs": [
    {
     "data": {
      "text/html": [
       "<div>\n",
       "<style scoped>\n",
       "    .dataframe tbody tr th:only-of-type {\n",
       "        vertical-align: middle;\n",
       "    }\n",
       "\n",
       "    .dataframe tbody tr th {\n",
       "        vertical-align: top;\n",
       "    }\n",
       "\n",
       "    .dataframe thead th {\n",
       "        text-align: right;\n",
       "    }\n",
       "</style>\n",
       "<table border=\"1\" class=\"dataframe\">\n",
       "  <thead>\n",
       "    <tr style=\"text-align: right;\">\n",
       "      <th></th>\n",
       "      <th>dni</th>\n",
       "      <th>fecha_votacion</th>\n",
       "    </tr>\n",
       "  </thead>\n",
       "  <tbody>\n",
       "    <tr>\n",
       "      <th>count</th>\n",
       "      <td>2.800000e+01</td>\n",
       "      <td>28</td>\n",
       "    </tr>\n",
       "    <tr>\n",
       "      <th>mean</th>\n",
       "      <td>3.716791e+07</td>\n",
       "      <td>2024-01-25 20:34:17.142857216</td>\n",
       "    </tr>\n",
       "    <tr>\n",
       "      <th>min</th>\n",
       "      <td>1.122334e+07</td>\n",
       "      <td>2023-05-13 00:00:00</td>\n",
       "    </tr>\n",
       "    <tr>\n",
       "      <th>25%</th>\n",
       "      <td>2.124536e+07</td>\n",
       "      <td>2023-09-25 18:00:00</td>\n",
       "    </tr>\n",
       "    <tr>\n",
       "      <th>50%</th>\n",
       "      <td>2.714195e+07</td>\n",
       "      <td>2023-10-08 12:00:00</td>\n",
       "    </tr>\n",
       "    <tr>\n",
       "      <th>75%</th>\n",
       "      <td>4.550171e+07</td>\n",
       "      <td>2024-05-17 00:00:00</td>\n",
       "    </tr>\n",
       "    <tr>\n",
       "      <th>max</th>\n",
       "      <td>9.900112e+07</td>\n",
       "      <td>2025-03-25 00:00:00</td>\n",
       "    </tr>\n",
       "    <tr>\n",
       "      <th>std</th>\n",
       "      <td>2.513110e+07</td>\n",
       "      <td>NaN</td>\n",
       "    </tr>\n",
       "  </tbody>\n",
       "</table>\n",
       "</div>"
      ],
      "text/plain": [
       "                dni                 fecha_votacion\n",
       "count  2.800000e+01                             28\n",
       "mean   3.716791e+07  2024-01-25 20:34:17.142857216\n",
       "min    1.122334e+07            2023-05-13 00:00:00\n",
       "25%    2.124536e+07            2023-09-25 18:00:00\n",
       "50%    2.714195e+07            2023-10-08 12:00:00\n",
       "75%    4.550171e+07            2024-05-17 00:00:00\n",
       "max    9.900112e+07            2025-03-25 00:00:00\n",
       "std    2.513110e+07                            NaN"
      ]
     },
     "execution_count": 39,
     "metadata": {},
     "output_type": "execute_result"
    }
   ],
   "source": [
    "#estadistica descriptiva\n",
    "df.describe()"
   ]
  },
  {
   "cell_type": "markdown",
   "id": "583ff2da",
   "metadata": {},
   "source": [
    "para obtener las descripciones estadisticas de los cuales fueron los votos en las provincias usamos df.groupby y los campos a agrupas"
   ]
  },
  {
   "cell_type": "code",
   "execution_count": 42,
   "id": "608441b1",
   "metadata": {},
   "outputs": [
    {
     "name": "stdout",
     "output_type": "stream",
     "text": [
      "             count unique   top freq\n",
      "provincia                           \n",
      "buenos aires     3      2    NO    2\n",
      "chaco            3      2    NO    2\n",
      "cordoba          2      2    SÍ    1\n",
      "corrientes       2      2  NULO    1\n",
      "formosa          2      2    SÍ    1\n",
      "mendoza          1      1    NO    1\n",
      "misiones         1      1  NULO    1\n",
      "neuquen          2      2    SÍ    1\n",
      "salta            3      3  NULO    1\n",
      "santa fe         4      2    NO    3\n",
      "tucuman          5      2    SÍ    3\n"
     ]
    }
   ],
   "source": [
    "conteo_provincia= df.groupby('provincia')['voto'].describe()\n",
    "print(conteo_provincia)"
   ]
  },
  {
   "cell_type": "markdown",
   "id": "abdc2d52",
   "metadata": {},
   "source": [
    "con matplolib se crea el grafico \n",
    "plt.bar(conteo_provincia.index,conteo_provincia.values,color=\"blue\") se le asigna los valor por el grupo"
   ]
  },
  {
   "cell_type": "code",
   "execution_count": 59,
   "id": "f59b54e8",
   "metadata": {},
   "outputs": [
    {
     "data": {
      "image/png": "[encoded data removed]",
      "text/plain": [
       "<Figure size 640x480 with 1 Axes>"
      ]
     },
     "metadata": {},
     "output_type": "display_data"
    }
   ],
   "source": [
    "conteo_voto= df['voto'].value_counts()\n",
    "import matplotlib.pyplot as plt\n",
    "plt.pie(conteo_voto)\n",
    "plt.title('conteo de votos')\n",
    "plt.xlabel('fechas')\n",
    "plt.ylabel('tipo de voto')\n",
    "plt.xticks(rotation= 90)\n",
    "plt.grid(axis='y')\n",
    "plt.show()\n"
   ]
  },
  {
   "cell_type": "code",
   "execution_count": 71,
   "id": "d92821ad",
   "metadata": {},
   "outputs": [
    {
     "data": {
      "text/plain": [
       "28"
      ]
     },
     "execution_count": 71,
     "metadata": {},
     "output_type": "execute_result"
    }
   ],
   "source": [
    "import sqlite3\n",
    "con = sqlite3.connect('Votaciones.db')\n",
    "df.to_sql('votacion',con,if_exists='replace',index=False)\n"
   ]
  },
  {
   "cell_type": "code",
   "execution_count": 73,
   "id": "51aa9c18",
   "metadata": {},
   "outputs": [
    {
     "data": {
      "text/html": [
       "<div>\n",
       "<style scoped>\n",
       "    .dataframe tbody tr th:only-of-type {\n",
       "        vertical-align: middle;\n",
       "    }\n",
       "\n",
       "    .dataframe tbody tr th {\n",
       "        vertical-align: top;\n",
       "    }\n",
       "\n",
       "    .dataframe thead th {\n",
       "        text-align: right;\n",
       "    }\n",
       "</style>\n",
       "<table border=\"1\" class=\"dataframe\">\n",
       "  <thead>\n",
       "    <tr style=\"text-align: right;\">\n",
       "      <th></th>\n",
       "      <th>nombre</th>\n",
       "      <th>apellido</th>\n",
       "      <th>dni</th>\n",
       "      <th>provincia</th>\n",
       "      <th>voto</th>\n",
       "      <th>fecha_votacion</th>\n",
       "    </tr>\n",
       "  </thead>\n",
       "  <tbody>\n",
       "    <tr>\n",
       "      <th>0</th>\n",
       "      <td>Pánfilo</td>\n",
       "      <td>Pombo</td>\n",
       "      <td>34787190</td>\n",
       "      <td>buenos aires</td>\n",
       "      <td>NULO</td>\n",
       "      <td>2024-11-22 00:00:00</td>\n",
       "    </tr>\n",
       "    <tr>\n",
       "      <th>1</th>\n",
       "      <td>Albina</td>\n",
       "      <td>Heredia</td>\n",
       "      <td>48336819</td>\n",
       "      <td>santa fe</td>\n",
       "      <td>NULO</td>\n",
       "      <td>2024-04-24 00:00:00</td>\n",
       "    </tr>\n",
       "    <tr>\n",
       "      <th>2</th>\n",
       "      <td>Brígida</td>\n",
       "      <td>Angulo</td>\n",
       "      <td>22169546</td>\n",
       "      <td>chaco</td>\n",
       "      <td>NO</td>\n",
       "      <td>2024-05-02 00:00:00</td>\n",
       "    </tr>\n",
       "    <tr>\n",
       "      <th>3</th>\n",
       "      <td>Verónica</td>\n",
       "      <td>Posada</td>\n",
       "      <td>35293135</td>\n",
       "      <td>santa fe</td>\n",
       "      <td>NO</td>\n",
       "      <td>2024-09-15 00:00:00</td>\n",
       "    </tr>\n",
       "    <tr>\n",
       "      <th>4</th>\n",
       "      <td>Baudelio</td>\n",
       "      <td>Sanabria</td>\n",
       "      <td>24036189</td>\n",
       "      <td>tucuman</td>\n",
       "      <td>NO</td>\n",
       "      <td>2024-04-04 00:00:00</td>\n",
       "    </tr>\n",
       "  </tbody>\n",
       "</table>\n",
       "</div>"
      ],
      "text/plain": [
       "     nombre  apellido       dni     provincia  voto       fecha_votacion\n",
       "0   Pánfilo     Pombo  34787190  buenos aires  NULO  2024-11-22 00:00:00\n",
       "1    Albina   Heredia  48336819      santa fe  NULO  2024-04-24 00:00:00\n",
       "2   Brígida    Angulo  22169546         chaco    NO  2024-05-02 00:00:00\n",
       "3  Verónica    Posada  35293135      santa fe    NO  2024-09-15 00:00:00\n",
       "4  Baudelio  Sanabria  24036189       tucuman    NO  2024-04-04 00:00:00"
      ]
     },
     "execution_count": 73,
     "metadata": {},
     "output_type": "execute_result"
    }
   ],
   "source": [
    "df=pd.read_sql_query('SELECT * From votacion',con)\n",
    "df.head()"
   ]
  }
 ],
 "metadata": {
  "kernelspec": {
   "display_name": "Python 3",
   "language": "python",
   "name": "python3"
  },
  "language_info": {
   "codemirror_mode": {
    "name": "ipython",
    "version": 3
   },
   "file_extension": ".py",
   "mimetype": "text/x-python",
   "name": "python",
   "nbconvert_exporter": "python",
   "pygments_lexer": "ipython3",
   "version": "3.12.9"
  }
 },
 "nbformat": 4,
 "nbformat_minor": 5
}
